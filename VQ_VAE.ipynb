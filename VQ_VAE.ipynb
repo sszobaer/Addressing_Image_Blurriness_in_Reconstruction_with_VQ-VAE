{
  "nbformat": 4,
  "nbformat_minor": 0,
  "metadata": {
    "colab": {
      "provenance": [],
      "gpuType": "T4"
    },
    "kernelspec": {
      "name": "python3",
      "display_name": "Python 3"
    },
    "language_info": {
      "name": "python"
    },
    "accelerator": "GPU"
  },
  "cells": [
    {
      "cell_type": "markdown",
      "source": [
        "# VQ - VAE"
      ],
      "metadata": {
        "id": "NjE4-HcsUoZP"
      }
    },
    {
      "cell_type": "markdown",
      "source": [
        "## Import Libraries"
      ],
      "metadata": {
        "id": "TmShkk6YThM3"
      }
    },
    {
      "cell_type": "markdown",
      "source": [],
      "metadata": {
        "id": "ZF9Q20iwTdAJ"
      }
    },
    {
      "cell_type": "code",
      "source": [
        "import torch\n",
        "import torch.nn as nn\n",
        "import torch.optim as optim\n",
        "import torch.nn.functional as F\n",
        "import torchvision.transforms as transforms\n",
        "import torchvision.datasets as datasets\n",
        "from torch.utils.data import DataLoader\n",
        "import matplotlib.pyplot as plt\n"
      ],
      "metadata": {
        "id": "vaYwfbUaUYnF"
      },
      "execution_count": 3,
      "outputs": []
    },
    {
      "cell_type": "markdown",
      "source": [
        "## Define the VQ-VAE Model"
      ],
      "metadata": {
        "id": "pI_SJFXMUe5N"
      }
    },
    {
      "cell_type": "code",
      "source": [
        "class VQVAE(nn.Module):\n",
        "    def __init__(self, input_channels, num_embeddings, embedding_dim):\n",
        "        super(VQVAE, self).__init__()\n",
        "\n",
        "        # Encoder (Compresses the input)\n",
        "        self.encoder = nn.Sequential(\n",
        "            nn.Conv2d(input_channels, 64, 4, stride=2, padding=1),  # Make image smaller\n",
        "            nn.ReLU(),\n",
        "            nn.Conv2d(64, 128, 4, stride=2, padding=1),\n",
        "            nn.ReLU(),\n",
        "            nn.Conv2d(128, 256, 4, stride=2, padding=1),\n",
        "            nn.ReLU(),\n",
        "        )\n",
        "\n",
        "        # Codebook (like a dictionary of learned features)\n",
        "        self.embedding = nn.Embedding(num_embeddings, embedding_dim)\n",
        "        self.num_embeddings = num_embeddings\n",
        "        self.embedding_dim = embedding_dim\n",
        "\n",
        "        # Decoder (Reconstructs the image from compressed data)\n",
        "        self.decoder = nn.Sequential(\n",
        "            nn.ConvTranspose2d(256, 128, 4, stride=2, padding=1),\n",
        "            nn.ReLU(),\n",
        "            nn.ConvTranspose2d(128, 64, 4, stride=2, padding=1),\n",
        "            nn.ReLU(),\n",
        "            nn.ConvTranspose2d(64, input_channels, 4, stride=2, padding=1),\n",
        "            nn.Sigmoid(),  # Output values between 0 and 1\n",
        "        )\n",
        "\n",
        "    def forward(self, x):\n",
        "        z_e = self.encoder(x)  # Compress the input\n",
        "        z_e_flat = z_e.view(-1, self.embedding_dim)  # Flatten it\n",
        "\n",
        "        # Find the nearest codebook vector (best match)\n",
        "        distances = torch.sum(z_e_flat**2, dim=1, keepdim=True) + \\\n",
        "                    torch.sum(self.embedding.weight**2, dim=1) - \\\n",
        "                    2 * torch.matmul(z_e_flat, self.embedding.weight.t())\n",
        "\n",
        "        # Pick the closest codebook index\n",
        "        encoding_indices = torch.argmin(distances, dim=1)\n",
        "        z_q = self.embedding(encoding_indices).view(z_e.shape)  # Get final compressed representation\n",
        "\n",
        "        # Reconstruct the image\n",
        "        x_recon = self.decoder(z_q)\n",
        "\n",
        "        return x_recon, encoding_indices\n"
      ],
      "metadata": {
        "id": "4EG0eP8EUbtm"
      },
      "execution_count": 4,
      "outputs": []
    },
    {
      "cell_type": "markdown",
      "source": [
        "## Define the Loss Function"
      ],
      "metadata": {
        "id": "RXSaNB6cU1dx"
      }
    },
    {
      "cell_type": "code",
      "source": [
        "def vq_vae_loss(x_recon, x, z_q, encoding_indices, beta=0.25):\n",
        "    # Reconstruction loss\n",
        "    recon_loss = F.mse_loss(x_recon, x)  # Calculate reconstruction loss (MSE loss)\n",
        "\n",
        "    # Commitment loss (Forces the model to use all codebook values)\n",
        "    z_q = z_q.float()  # Convert z_q to float (needed for MSE loss)\n",
        "    commitment_loss = F.mse_loss(z_q, z_q.detach())  # Calculate commitment loss (MSE loss)\n",
        "\n",
        "    # Total loss = Reconstruction + small penalty for ignoring codebook entries\n",
        "    loss = recon_loss + beta * commitment_loss\n",
        "    return loss"
      ],
      "metadata": {
        "id": "j-Bqw_J3UjfR"
      },
      "execution_count": 24,
      "outputs": []
    },
    {
      "cell_type": "markdown",
      "source": [
        "## Prepare the Dataset"
      ],
      "metadata": {
        "id": "JwtJopDiU-Vw"
      }
    },
    {
      "cell_type": "code",
      "source": [
        "transform = transforms.Compose([\n",
        "    transforms.ToTensor(),\n",
        "    transforms.Normalize((0.5,), (0.5,))\n",
        "])\n",
        "\n",
        "\n",
        "# Load CIFAR-10 dataset\n",
        "train_dataset = datasets.CIFAR10(root=\"./data\", train=True, transform=transform, download=True)\n",
        "train_loader = DataLoader(train_dataset, batch_size=64, shuffle=True)\n",
        "\n",
        "# Split the data into train and validation sets\n",
        "val_dataset = datasets.CIFAR10(root=\"./data\", train=False, transform=transform, download=True)\n",
        "val_loader = DataLoader(val_dataset, batch_size=64, shuffle=False)\n"
      ],
      "metadata": {
        "id": "87SVu5tAVBn2"
      },
      "execution_count": 25,
      "outputs": []
    },
    {
      "cell_type": "markdown",
      "source": [
        "## Setup the Device (GPU/CPU)\n"
      ],
      "metadata": {
        "id": "_U1durNpVUyz"
      }
    },
    {
      "cell_type": "code",
      "source": [
        "device = torch.device(\"cuda\" if torch.cuda.is_available() else \"cpu\")"
      ],
      "metadata": {
        "id": "OiCl_tKAVFNP"
      },
      "execution_count": 9,
      "outputs": []
    },
    {
      "cell_type": "markdown",
      "source": [
        "## Initialize the Model and Optimizer"
      ],
      "metadata": {
        "id": "GiPB_I9uVsAR"
      }
    },
    {
      "cell_type": "code",
      "source": [
        "model = VQVAE(input_channels=3, num_embeddings=512, embedding_dim=64)\n",
        "model.to(device)\n",
        "optimizer = torch.optim.Adam(model.parameters(), lr=1e-4, weight_decay=1e-5)"
      ],
      "metadata": {
        "id": "QOSAolGXVndM"
      },
      "execution_count": 39,
      "outputs": []
    },
    {
      "cell_type": "markdown",
      "source": [
        "## Train the Model and Track Losses"
      ],
      "metadata": {
        "id": "_38e7xYNVrJZ"
      }
    },
    {
      "cell_type": "code",
      "source": [
        "# Model evaluation function\n",
        "def evaluate(model, val_loader):\n",
        "    model.eval()\n",
        "    total_loss = 0\n",
        "    with torch.no_grad():\n",
        "        for data in val_loader:\n",
        "            x, _ = data\n",
        "            x = x.to(device).float()\n",
        "            x_recon, z_q = model(x)\n",
        "            loss = vq_vae_loss(x_recon, x, z_q, x)\n",
        "            total_loss += loss.item()\n",
        "    return total_loss / len(val_loader)"
      ],
      "metadata": {
        "id": "okFtW6dGWFx5"
      },
      "execution_count": 40,
      "outputs": []
    },
    {
      "cell_type": "code",
      "source": [
        "# Weight initialization\n",
        "def weights_init(m):\n",
        "    if isinstance(m, nn.Conv2d) or isinstance(m, nn.Linear):\n",
        "        nn.init.kaiming_normal_(m.weight, mode='fan_out', nonlinearity='relu')\n",
        "        if m.bias is not None:\n",
        "            nn.init.zeros_(m.bias)\n",
        "\n",
        "# Apply weight initialization\n",
        "model.apply(weights_init)"
      ],
      "metadata": {
        "colab": {
          "base_uri": "https://localhost:8080/"
        },
        "id": "y2NawZAWk14s",
        "outputId": "1f7e6632-458b-40c1-ca40-ceb0628264a7"
      },
      "execution_count": 41,
      "outputs": [
        {
          "output_type": "execute_result",
          "data": {
            "text/plain": [
              "VQVAE(\n",
              "  (encoder): Sequential(\n",
              "    (0): Conv2d(3, 64, kernel_size=(4, 4), stride=(2, 2), padding=(1, 1))\n",
              "    (1): ReLU()\n",
              "    (2): Conv2d(64, 128, kernel_size=(4, 4), stride=(2, 2), padding=(1, 1))\n",
              "    (3): ReLU()\n",
              "    (4): Conv2d(128, 256, kernel_size=(4, 4), stride=(2, 2), padding=(1, 1))\n",
              "    (5): ReLU()\n",
              "  )\n",
              "  (embedding): Embedding(512, 64)\n",
              "  (decoder): Sequential(\n",
              "    (0): ConvTranspose2d(256, 128, kernel_size=(4, 4), stride=(2, 2), padding=(1, 1))\n",
              "    (1): ReLU()\n",
              "    (2): ConvTranspose2d(128, 64, kernel_size=(4, 4), stride=(2, 2), padding=(1, 1))\n",
              "    (3): ReLU()\n",
              "    (4): ConvTranspose2d(64, 3, kernel_size=(4, 4), stride=(2, 2), padding=(1, 1))\n",
              "    (5): Sigmoid()\n",
              "  )\n",
              ")"
            ]
          },
          "metadata": {},
          "execution_count": 41
        }
      ]
    },
    {
      "cell_type": "code",
      "source": [
        "# Early stopping setup\n",
        "patience = 3\n",
        "best_val_loss = float('inf')\n",
        "epochs_without_improvement = 0\n",
        "\n",
        "# Learning rate scheduler\n",
        "scheduler = optim.lr_scheduler.ReduceLROnPlateau(optimizer, 'min', patience=1, verbose=True)\n",
        "\n",
        "# Training loop\n",
        "for epoch in range(num_epochs):\n",
        "    model.train()\n",
        "    total_train_loss = 0\n",
        "\n",
        "    # Training phase\n",
        "    for data in train_loader:\n",
        "        x, _ = data\n",
        "        x = x.to(device).float()  # Convert to float\n",
        "\n",
        "        optimizer.zero_grad()\n",
        "\n",
        "        # Forward pass\n",
        "        x_recon, z_q = model(x)\n",
        "\n",
        "        # Convert z_q to float before loss calculation\n",
        "        z_q = z_q.float()\n",
        "\n",
        "        # Compute the loss\n",
        "        loss = vq_vae_loss(x_recon, x, z_q, x)\n",
        "\n",
        "        # Backward pass and optimization\n",
        "        loss.backward()\n",
        "\n",
        "        # Gradient clipping to avoid exploding gradients\n",
        "        torch.nn.utils.clip_grad_norm_(model.parameters(), max_norm=1.0)\n",
        "\n",
        "        optimizer.step()\n",
        "\n",
        "        total_train_loss += loss.item()\n",
        "\n",
        "    # Average training loss\n",
        "    avg_train_loss = total_train_loss / len(train_loader)\n",
        "    train_losses.append(avg_train_loss)\n",
        "\n",
        "    # Validation phase\n",
        "    val_loss = evaluate(model, val_loader)\n",
        "    val_losses.append(val_loss)\n",
        "\n",
        "    print(f\"Epoch {epoch + 1}/{num_epochs}, \"\n",
        "          f\"Train Loss: {avg_train_loss:.4f}, Validation Loss: {val_loss:.4f}\")\n",
        "\n",
        "    # Early stopping condition\n",
        "    if val_loss < best_val_loss:\n",
        "        best_val_loss = val_loss\n",
        "        epochs_without_improvement = 0  # Reset counter\n",
        "    else:\n",
        "        epochs_without_improvement += 1\n",
        "\n",
        "    if epochs_without_improvement >= patience:\n",
        "        print(\"Early stopping triggered. Stopping training.\")\n",
        "        break\n",
        "\n",
        "    # Adjust the learning rate after validation loss\n",
        "    scheduler.step(val_loss)"
      ],
      "metadata": {
        "colab": {
          "base_uri": "https://localhost:8080/"
        },
        "id": "oD_hwYGHZ_AQ",
        "outputId": "02dcbc4f-e614-4ab9-e1ab-1a4da73fd24d"
      },
      "execution_count": 42,
      "outputs": [
        {
          "output_type": "stream",
          "name": "stdout",
          "text": [
            "Epoch 1/20, Train Loss: 0.2483, Validation Loss: 0.2056\n",
            "Epoch 2/20, Train Loss: 0.2051, Validation Loss: 0.2139\n",
            "Epoch 3/20, Train Loss: 0.2120, Validation Loss: 0.2113\n",
            "Epoch 4/20, Train Loss: 0.2096, Validation Loss: 0.2037\n",
            "Epoch 5/20, Train Loss: 0.2033, Validation Loss: 0.1977\n",
            "Epoch 6/20, Train Loss: 0.1973, Validation Loss: 0.1922\n",
            "Epoch 7/20, Train Loss: 0.1925, Validation Loss: 0.1878\n",
            "Epoch 8/20, Train Loss: 0.1890, Validation Loss: 0.1853\n",
            "Epoch 9/20, Train Loss: 0.1870, Validation Loss: 0.1835\n",
            "Epoch 10/20, Train Loss: 0.1853, Validation Loss: 0.1820\n",
            "Epoch 11/20, Train Loss: 0.1839, Validation Loss: 0.1809\n",
            "Epoch 12/20, Train Loss: 0.1830, Validation Loss: 0.1802\n",
            "Epoch 13/20, Train Loss: 0.1823, Validation Loss: 0.1793\n",
            "Epoch 14/20, Train Loss: 0.1814, Validation Loss: 0.1783\n",
            "Epoch 15/20, Train Loss: 0.1805, Validation Loss: 0.1776\n",
            "Epoch 16/20, Train Loss: 0.1798, Validation Loss: 0.1769\n",
            "Epoch 17/20, Train Loss: 0.1793, Validation Loss: 0.1766\n",
            "Epoch 18/20, Train Loss: 0.1788, Validation Loss: 0.1761\n",
            "Epoch 19/20, Train Loss: 0.1783, Validation Loss: 0.1756\n",
            "Epoch 20/20, Train Loss: 0.1779, Validation Loss: 0.1753\n"
          ]
        }
      ]
    },
    {
      "cell_type": "markdown",
      "source": [
        "## Plot Training and Validation Loss"
      ],
      "metadata": {
        "id": "c5anU6PmuDy9"
      }
    },
    {
      "cell_type": "code",
      "source": [
        "plt.figure(figsize=(10, 6))\n",
        "plt.plot(train_losses, label='Training Loss', color='blue')\n",
        "plt.plot(val_losses, label='Validation Loss', color='red')\n",
        "plt.title('Training and Validation Loss Over Epochs')\n",
        "plt.xlabel('Epochs')\n",
        "plt.ylabel('Loss')\n",
        "plt.legend()\n",
        "plt.grid(True)\n",
        "plt.show()\n"
      ],
      "metadata": {
        "colab": {
          "base_uri": "https://localhost:8080/",
          "height": 463
        },
        "id": "C4OH-NhcaCUW",
        "outputId": "b018c54a-b06e-40d8-fb5e-7f4993bf7718"
      },
      "execution_count": 44,
      "outputs": [
        {
          "output_type": "display_data",
          "data": {
            "text/plain": [
              "<Figure size 1000x600 with 1 Axes>"
            ],
            "image/png": "[encoded data removed]"
          },
          "metadata": {}
        }
      ]
    },
    {
      "cell_type": "markdown",
      "source": [
        "## Visualize Reconstructed Images"
      ],
      "metadata": {
        "id": "osMox4H8uZaw"
      }
    },
    {
      "cell_type": "code",
      "source": [
        "# Select an image from the training dataset\n",
        "test_image, _ = train_dataset[0]  # Change index if you want a different image\n",
        "test_image = test_image.unsqueeze(0).to(device)  # Add batch dimension and move to the correct device\n",
        "\n",
        "# Set the model to evaluation mode and run inference without gradient tracking\n",
        "model.eval()\n",
        "with torch.no_grad():\n",
        "    reconstructed_image, _ = model(test_image)  # Get the reconstructed image from the model\n",
        "\n",
        "# Plot the original and reconstructed images\n",
        "fig, axes = plt.subplots(1, 2, figsize=(10, 5))\n",
        "\n",
        "# Original Image\n",
        "axes[0].imshow(test_image.squeeze().permute(1, 2, 0).cpu().numpy())  # Convert from (C, H, W) to (H, W, C) for plotting\n",
        "axes[0].set_title(\"Original\")\n",
        "axes[0].axis('off')  # Hide axes for cleaner visualization\n",
        "\n",
        "# Reconstructed Image\n",
        "axes[1].imshow(reconstructed_image.squeeze().permute(1, 2, 0).cpu().numpy())  # Convert from (C, H, W) to (H, W, C)\n",
        "axes[1].set_title(\"Reconstructed\")\n",
        "axes[1].axis('off')  # Hide axes for cleaner visualization\n",
        "\n",
        "# Display the images\n",
        "plt.show()\n"
      ],
      "metadata": {
        "colab": {
          "base_uri": "https://localhost:8080/",
          "height": 400
        },
        "id": "J7yjuodhueZX",
        "outputId": "93d86e2c-600e-4eeb-ef0c-6c249c62af9c"
      },
      "execution_count": 46,
      "outputs": [
        {
          "output_type": "stream",
          "name": "stderr",
          "text": [
            "WARNING:matplotlib.image:Clipping input data to the valid range for imshow with RGB data ([0..1] for floats or [0..255] for integers). Got range [-1.0..1.0].\n"
          ]
        },
        {
          "output_type": "display_data",
          "data": {
            "text/plain": [
              "<Figure size 1000x500 with 2 Axes>"
            ],
            "image/png": "[encoded data removed]"
          },
          "metadata": {}
        }
      ]
    },
    {
      "cell_type": "code",
      "source": [
        "import cv2\n",
        "import numpy as np\n",
        "\n",
        "def sharpen_image(image):\n",
        "    # Convert the image to numpy array\n",
        "    image = image.squeeze().permute(1, 2, 0).cpu().numpy()\n",
        "\n",
        "    # Normalize image to [0, 255]\n",
        "    image = (image * 255).astype(np.uint8)\n",
        "\n",
        "    # Create a sharpening kernel\n",
        "    kernel = np.array([[-1, -1, -1], [-1,  9, -1], [-1, -1, -1]])\n",
        "\n",
        "    # Apply the kernel using OpenCV filter2D\n",
        "    sharpened_image = cv2.filter2D(image, -1, kernel)\n",
        "\n",
        "    return sharpened_image\n",
        "\n",
        "# Apply sharpening to the reconstructed image\n",
        "sharpened_reconstructed_image = sharpen_image(reconstructed_image)\n",
        "\n",
        "# Plot the original and sharpened reconstructed images\n",
        "fig, axes = plt.subplots(1, 2, figsize=(10, 5))\n",
        "\n",
        "# Original Image\n",
        "axes[0].imshow(test_image.squeeze().permute(1, 2, 0).cpu().numpy())\n",
        "axes[0].set_title(\"Original\")\n",
        "axes[0].axis('off')\n",
        "\n",
        "# Sharpened Reconstructed Image\n",
        "axes[1].imshow(sharpened_reconstructed_image)\n",
        "axes[1].set_title(\"Sharpened Reconstructed\")\n",
        "axes[1].axis('off')\n",
        "\n",
        "plt.show()"
      ],
      "metadata": {
        "colab": {
          "base_uri": "https://localhost:8080/",
          "height": 400
        },
        "id": "oK2qLnSRwRNk",
        "outputId": "866e03d2-5b7c-460f-dbd9-80154a474476"
      },
      "execution_count": 47,
      "outputs": [
        {
          "output_type": "stream",
          "name": "stderr",
          "text": [
            "WARNING:matplotlib.image:Clipping input data to the valid range for imshow with RGB data ([0..1] for floats or [0..255] for integers). Got range [-1.0..1.0].\n"
          ]
        },
        {
          "output_type": "display_data",
          "data": {
            "text/plain": [
              "<Figure size 1000x500 with 2 Axes>"
            ],
            "image/png": "[encoded data removed]"
          },
          "metadata": {}
        }
      ]
    },
    {
      "cell_type": "code",
      "source": [],
      "metadata": {
        "id": "_25V3DBRwSBK"
      },
      "execution_count": null,
      "outputs": []
    }
  ]
}